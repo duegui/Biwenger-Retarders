{
 "cells": [
  {
   "cell_type": "code",
   "execution_count": 1,
   "id": "6f55e23a-8f3d-4f83-b30f-8199004444e1",
   "metadata": {},
   "outputs": [],
   "source": [
    "a = 4+5\n"
   ]
  },
  {
   "cell_type": "code",
   "execution_count": null,
   "id": "9bda8ebb-b18e-4a6c-85c8-9f95589a353f",
   "metadata": {
    "is_executing": true
   },
   "outputs": [],
   "source": [
    "print(a)"
   ]
  },
  {
   "cell_type": "code",
   "execution_count": null,
   "id": "c2b5cc0a-e2bd-4c75-a36b-7141d131578a",
   "metadata": {},
   "outputs": [],
   "source": []
  }
 ],
 "metadata": {
  "kernelspec": {
   "display_name": "Python 3 (ipykernel)",
   "language": "python",
   "name": "python3"
  },
  "language_info": {
   "codemirror_mode": {
    "name": "ipython",
    "version": 3
   },
   "file_extension": ".py",
   "mimetype": "text/x-python",
   "name": "python",
   "nbconvert_exporter": "python",
   "pygments_lexer": "ipython3",
   "version": "3.9.12"
  }
 },
 "nbformat": 4,
 "nbformat_minor": 5
}
